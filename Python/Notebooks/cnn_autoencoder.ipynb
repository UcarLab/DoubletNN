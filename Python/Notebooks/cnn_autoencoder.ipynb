{
 "cells": [
  {
   "cell_type": "code",
   "execution_count": 1,
   "metadata": {},
   "outputs": [
    {
     "name": "stderr",
     "output_type": "stream",
     "text": [
      "Using TensorFlow backend.\n"
     ]
    }
   ],
   "source": [
    "from __future__ import print_function\n",
    "import numpy as np\n",
    "import scipy.io\n",
    "import matplotlib.pyplot as plt\n",
    "import pandas as pd\n",
    "import pickle as pkl\n",
    "import tensorflow as tf\n",
    "#import keras as kr\n",
    "import sklearn as skl\n",
    "import keras\n",
    "from keras.models import Sequential\n",
    "from keras.layers import Dense, InputLayer, Dropout, Flatten, BatchNormalization, Conv1D, MaxPooling1D, Activation, UpSampling1D,Reshape\n",
    "from keras.constraints import maxnorm\n",
    "from keras.callbacks import ModelCheckpoint\n",
    "from keras.models import model_from_json\n",
    "from keras import backend as K\n",
    "from keras import regularizers\n",
    "from keras.models import load_model\n",
    "from sklearn import preprocessing\n",
    "import os\n",
    "import feather"
   ]
  },
  {
   "cell_type": "code",
   "execution_count": 3,
   "metadata": {},
   "outputs": [],
   "source": [
    "#y_validate=pd.read_pickle(\"CZI.PBMC.y.validate.nn.pkl\")\n",
    "#y_test=pd.read_pickle(\"CZI.PBMC.y.test.nn.pkl\")\n",
    "#X=pd.read_pickle(\"CZI.PBMC.full.X.nn.sorted.cleaned.pkl\")\n",
    "#y_train=pd.read_pickle(\"CZI.PBMC.y.tra\")\n",
    "y_train=pd.read_feather('CZI.PBMC.y.train.nn.feather').values\n",
    "X_train=pd.read_feather('CZI.PBMC.X.train.nn.feather').values\n",
    "#X_train=pd.read_feather('CZI.PBMC.X.train.nn.notnorm.feather')\n",
    "\n",
    "\n",
    "y_validate=pd.read_feather('CZI.PBMC.y.validate.nn.feather').values\n",
    "X_validate=pd.read_feather('CZI.PBMC.X.validate.nn.feather').values\n",
    "#X_validate=pd.read_feather('CZI.PBMC.X.validate.nn.notnorm.feather')\n",
    "\n",
    "\n",
    "N_train_dat=X_train.shape[0]\n",
    "#N_test_dat=\n",
    "N_val_dat=X_validate.shape[0]\n",
    "N_feat=X_validate.shape[1]\n",
    "\n",
    "#X_train=X_train.values.reshape(N_train_dat,N_feat,1)\n",
    "#X_validate=X_validate.values.reshape(N_val_dat,N_feat,1)\n",
    "\n",
    "min_max_scaler = preprocessing.MinMaxScaler()\n",
    "X_train_minmax = min_max_scaler.fit_transform(X_train)\n",
    "X_validate_minmax = min_max_scaler.fit_transform(X_validate)\n",
    "\n",
    "X_train_minmax=X_train_minmax.reshape(N_train_dat,N_feat,1)\n",
    "X_validate_minmax=X_validate_minmax.reshape(N_val_dat,N_feat,1)\n",
    "\n",
    "\n",
    "#input_dir = os.getcwd()\n",
    "#genes=pd.read_csv(\"genes.nn.csv\").x[1:]\n",
    "\n",
    "#counts_matrix={}\n",
    "#for i in range(1,11,2):\n",
    "#    brcds_1=pd.read_csv(input_dir+'/CZI.PBMC.'+str(i)+'.brcds').x\n",
    "#    counts_matrix_1=scipy.io.mmread(input_dir + '/CZI.PBMC.'+str(i)+'.umis.mtx').T.tocsc()\n",
    "#    brcds_2=pd.read_csv(input_dir+'/CZI.PBMC.'+str(i+1)+'.brcds').x\n",
    "#    counts_matrix_2=scipy.io.mmread(input_dir + '/CZI.PBMC.'+str(i+1)+'.umis.mtx').T.tocsc()\n",
    "#    df_1=pd.DataFrame(counts_matrix_1.todense(),index=brcds_1,columns=genes)\n",
    " #   df_2=pd.DataFrame(counts_matrix_2.todense(),index=brcds_2,columns=genes)\n",
    "#    if i==1:\n",
    "#        czi_pbmc=pd.concat([df_1,df_2])\n",
    "#    else:\n",
    "#        czi_pbmc=pd.concat([czi_pbmc,df_1,df_2])\n",
    "#        \n",
    "#        \n",
    "#czi_pbmc.to_pickle(\"CZI.PBMC.full.nn.pkl\")\n",
    "\n",
    "\n",
    "\n",
    "\n",
    "#df_x_train = pd.read_csv(\"/projects/ucar-lab/danaco/bncmrk-dblts/DF/input/CZI.PBMC/CZI.PBMC.2.train.csv\", header=None)\n",
    "#df_x_validate = pd.read_csv(\"/projects/ucar-lab/danaco/bncmrk-dblts/DF/input/CZI.PBMC/CZI.PBMC.2.validate.csv\", header=None)\n",
    "#df_x_test = pd.read_csv(\"/projects/ucar-lab/danaco/bncmrk-dblts/DF/input/CZI.PBMC/CZI.PBMC.2.test.csv\", header=None)\n",
    "\n"
   ]
  },
  {
   "cell_type": "code",
   "execution_count": null,
   "metadata": {
    "collapsed": true
   },
   "outputs": [],
   "source": [
    "#np.sum(y_train==0)/len(y_train)\n",
    "\n",
    "#X_train.shape\n",
    "\n",
    "#a=np.arange(0,len(y))\n",
    "#np.random.shuffle(a)\n",
    "\n",
    "#train_locs, validate_locs, test_locs = np.split(a, [int(.8 * len(a)), int(.9 * len(a))])\n",
    "#all_brcds=pd.DataFrame(y.index.values,columns=np.array([\"Barcode\"]))\n",
    "#validate_brcds=pd.DataFrame(y_validate.index.values,columns=np.array([\"Barcode\"]))\n",
    "#test_brcds=pd.DataFrame(pd.read_pickle(\"CZI.PBMC.test.barcodes.pkl\").x.values,columns=np.array([\"Barcode\"]))\n",
    "#val_tst_brcds=pd.concat([validate_brcds,test_brcds])\n",
    "\n",
    "#np.concatenate([validate_brcds,test_brcds])\n",
    "    #np.concatenate(validate_brcds,test_brcds)#pd.concat([validate_brcds,test_brcds])\n",
    "#type(test_brcds)\n",
    "#type(validate_brcds)\n",
    "\n",
    "#dir()\n"
   ]
  },
  {
   "cell_type": "code",
   "execution_count": null,
   "metadata": {
    "collapsed": true,
    "scrolled": true
   },
   "outputs": [],
   "source": [
    "#train_locs=np.array([np.where(~all_brcds.Barcode.isin(val_tst_brcds.Barcode).values)])[0,0,:]\n",
    "#all_brcds.shape\n",
    "#not True\n",
    "#train_brcds=all_brcds.iloc[train_locs,]\n",
    "#pd.DataFrame(train_brcds.Barcode.values).to_pickle(\"CZI.PBMC.train.barcodes.pkl\")\n",
    "os.listdir()"
   ]
  },
  {
   "cell_type": "code",
   "execution_count": null,
   "metadata": {
    "collapsed": true
   },
   "outputs": [],
   "source": [
    "#bebe=pd.read_pickle(\"CZI.PBMC.new.train.locs.pkl\")\n",
    "\n",
    "#pd.DataFrame(train_locs,columns=np.array([\"Locs\"])).to_pickle(\"CZI.PBMC.new.train.locs.pkl\")\n",
    "#pd.DataFrame(y.index.values[train_locs],columns=np.array([\"Barcode\"])).to_pickle(\"CZI.PBMC.new.train.barcodes.pkl\")\n",
    "\n",
    "#pd.DataFrame(validate_locs,columns=np.array([\"Locs\"])).to_pickle(\"CZI.PBMC.new.validate.locs.pkl\")\n",
    "#pd.DataFrame(y.index.values[validate_locs],columns=np.array([\"Barcode\"])).to_pickle(\"CZI.PBMC.new.validate.barcodes.pkl\")\n",
    "\n",
    "#pd.DataFrame(test_locs,columns=np.array([\"Locs\"])).to_pickle(\"CZI.PBMC.new.test.locs.pkl\")\n",
    "#pd.DataFrame(y.index.values[test_locs],columns=np.array([\"Barcode\"])).to_pickle(\"CZI.PBMC.new.test.barcodes.pkl\")\n",
    "X_validate_minmax.min()"
   ]
  },
  {
   "cell_type": "code",
   "execution_count": 14,
   "metadata": {},
   "outputs": [],
   "source": [
    "#from keras.models import load_model\n",
    "\n",
    "#dnn_autoencoder.save('dnn_autoencoder_clr.h5')\n",
    "dnn_autoencoder=dnn_autoencoder_notnorm\n",
    "#dnn_autoencoder_notnorm=load_model('dnn_autoencoder_notnorm.h5')"
   ]
  },
  {
   "cell_type": "code",
   "execution_count": 59,
   "metadata": {
    "scrolled": true
   },
   "outputs": [
    {
     "name": "stdout",
     "output_type": "stream",
     "text": [
      "_________________________________________________________________\n",
      "Layer (type)                 Output Shape              Param #   \n",
      "=================================================================\n",
      "conv1d_74 (Conv1D)           (None, 18488, 128)        384       \n",
      "_________________________________________________________________\n",
      "batch_normalization_22 (Batc (None, 18488, 128)        512       \n",
      "_________________________________________________________________\n",
      "activation_22 (Activation)   (None, 18488, 128)        0         \n",
      "_________________________________________________________________\n",
      "activity_regularization_3 (A (None, 18488, 128)        0         \n",
      "_________________________________________________________________\n",
      "max_pooling1d_34 (MaxPooling (None, 9244, 128)         0         \n",
      "_________________________________________________________________\n",
      "conv1d_75 (Conv1D)           (None, 9244, 64)          24640     \n",
      "_________________________________________________________________\n",
      "dropout_2 (Dropout)          (None, 9244, 64)          0         \n",
      "_________________________________________________________________\n",
      "max_pooling1d_35 (MaxPooling (None, 4622, 64)          0         \n",
      "_________________________________________________________________\n",
      "conv1d_76 (Conv1D)           (None, 4622, 32)          6176      \n",
      "_________________________________________________________________\n",
      "up_sampling1d_28 (UpSampling (None, 9244, 32)          0         \n",
      "_________________________________________________________________\n",
      "conv1d_77 (Conv1D)           (None, 9244, 64)          6208      \n",
      "_________________________________________________________________\n",
      "up_sampling1d_29 (UpSampling (None, 18488, 64)         0         \n",
      "_________________________________________________________________\n",
      "conv1d_78 (Conv1D)           (None, 18488, 1)          193       \n",
      "=================================================================\n",
      "Total params: 38,113\n",
      "Trainable params: 37,857\n",
      "Non-trainable params: 256\n",
      "_________________________________________________________________\n"
     ]
    }
   ],
   "source": [
    "# The known number of output classes.\n",
    "#num_classes = 2\n",
    "\n",
    "# Input image dimensions\n",
    "#input_shape = (18488,)\n",
    "\n",
    "\n",
    "cnn_autoencoder = Sequential()\n",
    "#model.add(Conv1D(filters=1, kernel_size=10,strides=10, input_shape=(N_feat,1), padding='same',activation='relu',kernel_initializer=\"uniform\"))\n",
    "#cnn_autoencoder.add(Dropout(0.2,input_shape=(N_feat,)))\n",
    "#cnn_autoencoder.add(Conv1D(filters=1, kernel_size=10,strides=10, input_shape=(N_feat,1), use_bias=False,padding='same',kernel_initializer=\"uniform\"))\n",
    "cnn_autoencoder.add(Conv1D(128,kernel_size=3, input_shape=(N_feat,1), use_bias=False,padding='same',kernel_initializer=\"uniform\"))\n",
    "\n",
    "#dnn_autoencoder.add(Dropout(0.2,input_shape=(N_feat,)))\n",
    "cnn_autoencoder.add(BatchNormalization())\n",
    "cnn_autoencoder.add(Activation('relu'))\n",
    "cnn_autoencoder.add(ActivityRegularization(l1=10e-6,l2=10e-6))\n",
    "cnn_autoencoder.add(MaxPooling1D(pool_size=2))\n",
    "\n",
    "cnn_autoencoder.add(Conv1D(64,kernel_size=3,kernel_initializer='uniform',activation='relu',padding='same'))\n",
    "cnn_autoencoder.add(Dropout(0.2))\n",
    "cnn_autoencoder.add(MaxPooling1D(pool_size=2))\n",
    "\n",
    "cnn_autoencoder.add(Conv1D(32,kernel_size=3,kernel_initializer='uniform',activation='relu',padding='same'))\n",
    "\n",
    "cnn_autoencoder.add(UpSampling1D(2))\n",
    "\n",
    "cnn_autoencoder.add(Conv1D(64,kernel_size=3,kernel_initializer='uniform',activation='relu',padding='same'))\n",
    "\n",
    "cnn_autoencoder.add(UpSampling1D(2))\n",
    "cnn_autoencoder.add(Conv1D(1,kernel_size=3,kernel_initializer='uniform',activation='sigmoid',padding=\"same\"))\n",
    "#cnn_autoencoder.add(Reshape((18484, 1)))\n",
    "#cnn_autoencoder.add(Dense(N_feat))\n",
    "#cnn_autoencoder.add(Dense(N_feat, activation='sigmoid'))\n",
    "\n",
    "#model.add(Flatten())\n",
    "#cnn_autoencoder.add(Dense(N_feat,input_dim=N_feat ,use_bias=False, kernel_constraint=maxnorm(3)))\n",
    "#cnn_autoencoder.add(BatchNormalization())\n",
    "#model.add(Dense(8192, activation='relu'))\n",
    "#model.add(Dense(4096, activation='relu'))\n",
    "#model.add(Dense(2048, activation='relu'))\n",
    "#cnn_autoencoder.add(Dense(1024, activation='relu',kernel_constraint=maxnorm(3)))\n",
    "#cnn_autoencoder.add(Dropout(0.2))\n",
    "\n",
    "#model.add(Dense(512, activation='relu'))\n",
    "#dnn_autoencoder.add(Dropout(0.5))\n",
    "#cnn_autoencoder.add(Dense(512, activation='relu',kernel_constraint=maxnorm(3)))\n",
    "#cnn_autoencoder.add(Dense(256, activation='relu',kernel_constraint=maxnorm(3)))\n",
    "#model.add(Dense(num_classes, activation='softmax'))\n",
    "#dnn_autoencoder.add(Dense(128, activation='relu',kernel_constraint=maxnorm(3)))\n",
    "#dnn_autoencoder.add(Dense(64, activation='relu'\n",
    "                  #        ,activity_regularizer=regularizers.l1(10e-6),kernel_constraint=maxnorm(3)))\n",
    "#dnn_autoencoder.add(Dense(256, activation='relu'))\n",
    "\n",
    "#dnn_autoencoder.add(Dense(128, activation='relu',kernel_constraint=maxnorm(3)))\n",
    "#dnn_autoencoder.add(Dense(256, activation='relu',kernel_constraint=maxnorm(3)))\n",
    "\n",
    "#cnn_autoencoder.add(Dense(512, activation='relu',kernel_constraint=maxnorm(3)))\n",
    "\n",
    "#cnn_autoencoder.add(Dense(1024, activation='relu',kernel_constraint=maxnorm(3)))\n",
    "#model.add(Dense(2048, activation='relu'))\n",
    "\n",
    "\n",
    "#cnn_autoencoder.add(Dense(N_feat, activation='sigmoid'))\n",
    "\n",
    "cnn_autoencoder.compile(loss=keras.losses.binary_crossentropy, #mean_squared_error\n",
    "              optimizer=keras.optimizers.Adam(),\n",
    "              metrics=['accuracy'])\n",
    "\n",
    "cnn_autoencoder.summary()\n",
    "\n",
    "#encoder_layer1 = dnn_autoencoder.layers[0]\n",
    "#encoder_layer2 = dnn_autoencoder.layers[1]\n",
    "#encoder_layer3 = dnn_autoencoder.layers[2]\n",
    "#encoder_layer4 = dnn_autoencoder.layers[3]\n",
    "#encoder_layer5 = dnn_autoencoder.layers[4]\n",
    "#dnn_encoder = Model(input_img, encoder_layer5(encoder_layer4(encoder_layer3(encoder_layer2(encoder_layer1(input_img))))))\n",
    "\n",
    "#encoder.summary()\n",
    "\n"
   ]
  },
  {
   "cell_type": "code",
   "execution_count": 60,
   "metadata": {},
   "outputs": [
    {
     "name": "stdout",
     "output_type": "stream",
     "text": [
      "Train on 242744 samples, validate on 30343 samples\n",
      "Epoch 1/10\n",
      "242744/242744 [==============================] - 1190s 5ms/step - loss: 1.8294 - acc: 0.9622 - val_loss: 0.0727 - val_acc: 0.9623\n",
      "Epoch 2/10\n",
      "242744/242744 [==============================] - 1117s 5ms/step - loss: 0.0666 - acc: 0.9625 - val_loss: 0.0720 - val_acc: 0.9623\n",
      "Epoch 3/10\n",
      "242744/242744 [==============================] - 1122s 5ms/step - loss: 0.0666 - acc: 0.9625 - val_loss: 0.0722 - val_acc: 0.9623\n",
      "Epoch 4/10\n"
     ]
    },
    {
     "ename": "KeyboardInterrupt",
     "evalue": "",
     "output_type": "error",
     "traceback": [
      "\u001b[0;31m---------------------------------------------------------------------------\u001b[0m",
      "\u001b[0;31mKeyboardInterrupt\u001b[0m                         Traceback (most recent call last)",
      "\u001b[0;32m<ipython-input-60-3b6fe511bf96>\u001b[0m in \u001b[0;36m<module>\u001b[0;34m\u001b[0m\n\u001b[1;32m      5\u001b[0m           \u001b[0mepochs\u001b[0m\u001b[0;34m=\u001b[0m\u001b[0mepochs\u001b[0m\u001b[0;34m,\u001b[0m\u001b[0;34m\u001b[0m\u001b[0;34m\u001b[0m\u001b[0m\n\u001b[1;32m      6\u001b[0m           \u001b[0mverbose\u001b[0m\u001b[0;34m=\u001b[0m\u001b[0;36m1\u001b[0m\u001b[0;34m,\u001b[0m\u001b[0;34m\u001b[0m\u001b[0;34m\u001b[0m\u001b[0m\n\u001b[0;32m----> 7\u001b[0;31m           validation_data=(X_validate_minmax, X_validate_minmax))\n\u001b[0m",
      "\u001b[0;32m/usr/local/lib/python3.6/dist-packages/keras/engine/training.py\u001b[0m in \u001b[0;36mfit\u001b[0;34m(self, x, y, batch_size, epochs, verbose, callbacks, validation_split, validation_data, shuffle, class_weight, sample_weight, initial_epoch, steps_per_epoch, validation_steps, **kwargs)\u001b[0m\n\u001b[1;32m   1037\u001b[0m                                         \u001b[0minitial_epoch\u001b[0m\u001b[0;34m=\u001b[0m\u001b[0minitial_epoch\u001b[0m\u001b[0;34m,\u001b[0m\u001b[0;34m\u001b[0m\u001b[0;34m\u001b[0m\u001b[0m\n\u001b[1;32m   1038\u001b[0m                                         \u001b[0msteps_per_epoch\u001b[0m\u001b[0;34m=\u001b[0m\u001b[0msteps_per_epoch\u001b[0m\u001b[0;34m,\u001b[0m\u001b[0;34m\u001b[0m\u001b[0;34m\u001b[0m\u001b[0m\n\u001b[0;32m-> 1039\u001b[0;31m                                         validation_steps=validation_steps)\n\u001b[0m\u001b[1;32m   1040\u001b[0m \u001b[0;34m\u001b[0m\u001b[0m\n\u001b[1;32m   1041\u001b[0m     def evaluate(self, x=None, y=None,\n",
      "\u001b[0;32m/usr/local/lib/python3.6/dist-packages/keras/engine/training_arrays.py\u001b[0m in \u001b[0;36mfit_loop\u001b[0;34m(model, f, ins, out_labels, batch_size, epochs, verbose, callbacks, val_f, val_ins, shuffle, callback_metrics, initial_epoch, steps_per_epoch, validation_steps)\u001b[0m\n\u001b[1;32m    183\u001b[0m                         \u001b[0;31m# Do not slice the training phase flag.\u001b[0m\u001b[0;34m\u001b[0m\u001b[0;34m\u001b[0m\u001b[0;34m\u001b[0m\u001b[0m\n\u001b[1;32m    184\u001b[0m                         ins_batch = slice_arrays(\n\u001b[0;32m--> 185\u001b[0;31m                             ins[:-1], batch_ids) + [ins[-1]]\n\u001b[0m\u001b[1;32m    186\u001b[0m                     \u001b[0;32melse\u001b[0m\u001b[0;34m:\u001b[0m\u001b[0;34m\u001b[0m\u001b[0;34m\u001b[0m\u001b[0m\n\u001b[1;32m    187\u001b[0m                         \u001b[0mins_batch\u001b[0m \u001b[0;34m=\u001b[0m \u001b[0mslice_arrays\u001b[0m\u001b[0;34m(\u001b[0m\u001b[0mins\u001b[0m\u001b[0;34m,\u001b[0m \u001b[0mbatch_ids\u001b[0m\u001b[0;34m)\u001b[0m\u001b[0;34m\u001b[0m\u001b[0;34m\u001b[0m\u001b[0m\n",
      "\u001b[0;32m/usr/local/lib/python3.6/dist-packages/keras/utils/generic_utils.py\u001b[0m in \u001b[0;36mslice_arrays\u001b[0;34m(arrays, start, stop)\u001b[0m\n\u001b[1;32m    524\u001b[0m             \u001b[0;32mif\u001b[0m \u001b[0mhasattr\u001b[0m\u001b[0;34m(\u001b[0m\u001b[0mstart\u001b[0m\u001b[0;34m,\u001b[0m \u001b[0;34m'shape'\u001b[0m\u001b[0;34m)\u001b[0m\u001b[0;34m:\u001b[0m\u001b[0;34m\u001b[0m\u001b[0;34m\u001b[0m\u001b[0m\n\u001b[1;32m    525\u001b[0m                 \u001b[0mstart\u001b[0m \u001b[0;34m=\u001b[0m \u001b[0mstart\u001b[0m\u001b[0;34m.\u001b[0m\u001b[0mtolist\u001b[0m\u001b[0;34m(\u001b[0m\u001b[0;34m)\u001b[0m\u001b[0;34m\u001b[0m\u001b[0;34m\u001b[0m\u001b[0m\n\u001b[0;32m--> 526\u001b[0;31m             \u001b[0;32mreturn\u001b[0m \u001b[0;34m[\u001b[0m\u001b[0;32mNone\u001b[0m \u001b[0;32mif\u001b[0m \u001b[0mx\u001b[0m \u001b[0;32mis\u001b[0m \u001b[0;32mNone\u001b[0m \u001b[0;32melse\u001b[0m \u001b[0mx\u001b[0m\u001b[0;34m[\u001b[0m\u001b[0mstart\u001b[0m\u001b[0;34m]\u001b[0m \u001b[0;32mfor\u001b[0m \u001b[0mx\u001b[0m \u001b[0;32min\u001b[0m \u001b[0marrays\u001b[0m\u001b[0;34m]\u001b[0m\u001b[0;34m\u001b[0m\u001b[0;34m\u001b[0m\u001b[0m\n\u001b[0m\u001b[1;32m    527\u001b[0m         \u001b[0;32melse\u001b[0m\u001b[0;34m:\u001b[0m\u001b[0;34m\u001b[0m\u001b[0;34m\u001b[0m\u001b[0m\n\u001b[1;32m    528\u001b[0m             \u001b[0;32mreturn\u001b[0m \u001b[0;34m[\u001b[0m\u001b[0;32mNone\u001b[0m \u001b[0;32mif\u001b[0m \u001b[0mx\u001b[0m \u001b[0;32mis\u001b[0m \u001b[0;32mNone\u001b[0m \u001b[0;32melse\u001b[0m \u001b[0mx\u001b[0m\u001b[0;34m[\u001b[0m\u001b[0mstart\u001b[0m\u001b[0;34m:\u001b[0m\u001b[0mstop\u001b[0m\u001b[0;34m]\u001b[0m \u001b[0;32mfor\u001b[0m \u001b[0mx\u001b[0m \u001b[0;32min\u001b[0m \u001b[0marrays\u001b[0m\u001b[0;34m]\u001b[0m\u001b[0;34m\u001b[0m\u001b[0;34m\u001b[0m\u001b[0m\n",
      "\u001b[0;32m/usr/local/lib/python3.6/dist-packages/keras/utils/generic_utils.py\u001b[0m in \u001b[0;36m<listcomp>\u001b[0;34m(.0)\u001b[0m\n\u001b[1;32m    524\u001b[0m             \u001b[0;32mif\u001b[0m \u001b[0mhasattr\u001b[0m\u001b[0;34m(\u001b[0m\u001b[0mstart\u001b[0m\u001b[0;34m,\u001b[0m \u001b[0;34m'shape'\u001b[0m\u001b[0;34m)\u001b[0m\u001b[0;34m:\u001b[0m\u001b[0;34m\u001b[0m\u001b[0;34m\u001b[0m\u001b[0m\n\u001b[1;32m    525\u001b[0m                 \u001b[0mstart\u001b[0m \u001b[0;34m=\u001b[0m \u001b[0mstart\u001b[0m\u001b[0;34m.\u001b[0m\u001b[0mtolist\u001b[0m\u001b[0;34m(\u001b[0m\u001b[0;34m)\u001b[0m\u001b[0;34m\u001b[0m\u001b[0;34m\u001b[0m\u001b[0m\n\u001b[0;32m--> 526\u001b[0;31m             \u001b[0;32mreturn\u001b[0m \u001b[0;34m[\u001b[0m\u001b[0;32mNone\u001b[0m \u001b[0;32mif\u001b[0m \u001b[0mx\u001b[0m \u001b[0;32mis\u001b[0m \u001b[0;32mNone\u001b[0m \u001b[0;32melse\u001b[0m \u001b[0mx\u001b[0m\u001b[0;34m[\u001b[0m\u001b[0mstart\u001b[0m\u001b[0;34m]\u001b[0m \u001b[0;32mfor\u001b[0m \u001b[0mx\u001b[0m \u001b[0;32min\u001b[0m \u001b[0marrays\u001b[0m\u001b[0;34m]\u001b[0m\u001b[0;34m\u001b[0m\u001b[0;34m\u001b[0m\u001b[0m\n\u001b[0m\u001b[1;32m    527\u001b[0m         \u001b[0;32melse\u001b[0m\u001b[0;34m:\u001b[0m\u001b[0;34m\u001b[0m\u001b[0;34m\u001b[0m\u001b[0m\n\u001b[1;32m    528\u001b[0m             \u001b[0;32mreturn\u001b[0m \u001b[0;34m[\u001b[0m\u001b[0;32mNone\u001b[0m \u001b[0;32mif\u001b[0m \u001b[0mx\u001b[0m \u001b[0;32mis\u001b[0m \u001b[0;32mNone\u001b[0m \u001b[0;32melse\u001b[0m \u001b[0mx\u001b[0m\u001b[0;34m[\u001b[0m\u001b[0mstart\u001b[0m\u001b[0;34m:\u001b[0m\u001b[0mstop\u001b[0m\u001b[0;34m]\u001b[0m \u001b[0;32mfor\u001b[0m \u001b[0mx\u001b[0m \u001b[0;32min\u001b[0m \u001b[0marrays\u001b[0m\u001b[0;34m]\u001b[0m\u001b[0;34m\u001b[0m\u001b[0;34m\u001b[0m\u001b[0m\n",
      "\u001b[0;31mKeyboardInterrupt\u001b[0m: "
     ]
    }
   ],
   "source": [
    "batch_size = 256\n",
    "epochs = 10\n",
    "cnn_autoencoder.fit(X_train_minmax, X_train_minmax,\n",
    "          batch_size=batch_size,\n",
    "          epochs=epochs,\n",
    "          verbose=1,\n",
    "          validation_data=(X_validate_minmax, X_validate_minmax))"
   ]
  },
  {
   "cell_type": "code",
   "execution_count": 4,
   "metadata": {},
   "outputs": [],
   "source": [
    "\n",
    "df1_train=pd.DataFrame(X_train_minmax)\n",
    "df1_validate=pd.DataFrame(X_validate_minmax)\n"
   ]
  },
  {
   "cell_type": "code",
   "execution_count": 61,
   "metadata": {},
   "outputs": [],
   "source": [
    "#X_validate_minmax_pred=np.array(dnn_autoencoder_notnorm.predict(X_validate_minmax))\n",
    "X_validate_minmax_pred=np.array(cnn_autoencoder.predict(X_validate_minmax,batch_size=256))\n",
    "X_train_minmax_pred=np.array(cnn_autoencoder.predict(X_train_minmax,batch_size=256))"
   ]
  },
  {
   "cell_type": "code",
   "execution_count": 72,
   "metadata": {},
   "outputs": [
    {
     "data": {
      "text/plain": [
       "array([[<matplotlib.axes._subplots.AxesSubplot object at 0x2ab1d25f2a58>]],\n",
       "      dtype=object)"
      ]
     },
     "execution_count": 72,
     "metadata": {},
     "output_type": "execute_result"
    },
    {
     "data": {
      "image/png": "[encoded data removed]",
      "text/plain": [
       "<Figure size 432x288 with 1 Axes>"
      ]
     },
     "metadata": {
      "needs_background": "light"
     },
     "output_type": "display_data"
    }
   ],
   "source": [
    "pd.DataFrame(X_train_minmax[100000,]).hist()"
   ]
  },
  {
   "cell_type": "code",
   "execution_count": null,
   "metadata": {
    "collapsed": true
   },
   "outputs": [],
   "source": [
    "X_train_minmax_pred=np.array(X_train_minmax_pred)"
   ]
  },
  {
   "cell_type": "code",
   "execution_count": 71,
   "metadata": {},
   "outputs": [
    {
     "data": {
      "text/plain": [
       "array([[<matplotlib.axes._subplots.AxesSubplot object at 0x2ab1d2461c18>]],\n",
       "      dtype=object)"
      ]
     },
     "execution_count": 71,
     "metadata": {},
     "output_type": "execute_result"
    },
    {
     "data": {
      "image/png": "[encoded data removed]",
      "text/plain": [
       "<Figure size 432x288 with 1 Axes>"
      ]
     },
     "metadata": {
      "needs_background": "light"
     },
     "output_type": "display_data"
    }
   ],
   "source": [
    "pd.DataFrame(X_train_minmax_pred[100000,]).hist()"
   ]
  },
  {
   "cell_type": "code",
   "execution_count": 5,
   "metadata": {
    "collapsed": true
   },
   "outputs": [],
   "source": [
    "#X=scipy.io.mmread('czi_pbmc_notnorm.mtx').todense()\n",
    "X=scipy.io.mmread('CZI.PBMC.1.umis.mtx').todense()"
   ]
  },
  {
   "cell_type": "code",
   "execution_count": 2,
   "metadata": {},
   "outputs": [
    {
     "name": "stderr",
     "output_type": "stream",
     "text": [
      "WARNING: Logging before flag parsing goes to stderr.\n",
      "W0827 18:03:32.427061 46912496324416 deprecation_wrapper.py:119] From /usr/local/lib/python3.6/dist-packages/keras/backend/tensorflow_backend.py:174: The name tf.get_default_session is deprecated. Please use tf.compat.v1.get_default_session instead.\n",
      "\n",
      "W0827 18:03:32.428379 46912496324416 deprecation_wrapper.py:119] From /usr/local/lib/python3.6/dist-packages/keras/backend/tensorflow_backend.py:181: The name tf.ConfigProto is deprecated. Please use tf.compat.v1.ConfigProto instead.\n",
      "\n",
      "W0827 18:03:32.429145 46912496324416 deprecation_wrapper.py:119] From /usr/local/lib/python3.6/dist-packages/keras/backend/tensorflow_backend.py:186: The name tf.Session is deprecated. Please use tf.compat.v1.Session instead.\n",
      "\n",
      "W0827 18:03:36.619571 46912496324416 deprecation_wrapper.py:119] From /usr/local/lib/python3.6/dist-packages/keras/backend/tensorflow_backend.py:190: The name tf.global_variables is deprecated. Please use tf.compat.v1.global_variables instead.\n",
      "\n"
     ]
    },
    {
     "data": {
      "text/plain": [
       "['/job:localhost/replica:0/task:0/device:GPU:0',\n",
       " '/job:localhost/replica:0/task:0/device:GPU:1',\n",
       " '/job:localhost/replica:0/task:0/device:GPU:2',\n",
       " '/job:localhost/replica:0/task:0/device:GPU:3']"
      ]
     },
     "execution_count": 2,
     "metadata": {},
     "output_type": "execute_result"
    }
   ],
   "source": [
    "from keras import backend as K\n",
    "K.tensorflow_backend._get_available_gpus()"
   ]
  },
  {
   "cell_type": "code",
   "execution_count": 3,
   "metadata": {},
   "outputs": [
    {
     "ename": "AttributeError",
     "evalue": "'DataFrame' object has no attribute 'reshape'",
     "output_type": "error",
     "traceback": [
      "\u001b[0;31m---------------------------------------------------------------------------\u001b[0m",
      "\u001b[0;31mAttributeError\u001b[0m                            Traceback (most recent call last)",
      "\u001b[0;32m<ipython-input-3-916ff874407f>\u001b[0m in \u001b[0;36m<module>\u001b[0;34m\u001b[0m\n\u001b[0;32m----> 1\u001b[0;31m \u001b[0mX_train\u001b[0m\u001b[0;34m=\u001b[0m\u001b[0mX_train\u001b[0m\u001b[0;34m.\u001b[0m\u001b[0mreshape\u001b[0m\u001b[0;34m(\u001b[0m\u001b[0mN_train_dat\u001b[0m\u001b[0;34m,\u001b[0m\u001b[0mN_feat\u001b[0m\u001b[0;34m,\u001b[0m\u001b[0;36m1\u001b[0m\u001b[0;34m)\u001b[0m\u001b[0;34m\u001b[0m\u001b[0;34m\u001b[0m\u001b[0m\n\u001b[0m\u001b[1;32m      2\u001b[0m \u001b[0mX_validate\u001b[0m\u001b[0;34m=\u001b[0m\u001b[0mX_validate\u001b[0m\u001b[0;34m.\u001b[0m\u001b[0mreshape\u001b[0m\u001b[0;34m(\u001b[0m\u001b[0mN_val_dat\u001b[0m\u001b[0;34m,\u001b[0m\u001b[0mN_feat\u001b[0m\u001b[0;34m,\u001b[0m\u001b[0;36m1\u001b[0m\u001b[0;34m)\u001b[0m\u001b[0;34m\u001b[0m\u001b[0;34m\u001b[0m\u001b[0m\n",
      "\u001b[0;32m/usr/local/lib/python3.6/dist-packages/pandas/core/generic.py\u001b[0m in \u001b[0;36m__getattr__\u001b[0;34m(self, name)\u001b[0m\n\u001b[1;32m   5178\u001b[0m             \u001b[0;32mif\u001b[0m \u001b[0mself\u001b[0m\u001b[0;34m.\u001b[0m\u001b[0m_info_axis\u001b[0m\u001b[0;34m.\u001b[0m\u001b[0m_can_hold_identifiers_and_holds_name\u001b[0m\u001b[0;34m(\u001b[0m\u001b[0mname\u001b[0m\u001b[0;34m)\u001b[0m\u001b[0;34m:\u001b[0m\u001b[0;34m\u001b[0m\u001b[0;34m\u001b[0m\u001b[0m\n\u001b[1;32m   5179\u001b[0m                 \u001b[0;32mreturn\u001b[0m \u001b[0mself\u001b[0m\u001b[0;34m[\u001b[0m\u001b[0mname\u001b[0m\u001b[0;34m]\u001b[0m\u001b[0;34m\u001b[0m\u001b[0;34m\u001b[0m\u001b[0m\n\u001b[0;32m-> 5180\u001b[0;31m             \u001b[0;32mreturn\u001b[0m \u001b[0mobject\u001b[0m\u001b[0;34m.\u001b[0m\u001b[0m__getattribute__\u001b[0m\u001b[0;34m(\u001b[0m\u001b[0mself\u001b[0m\u001b[0;34m,\u001b[0m \u001b[0mname\u001b[0m\u001b[0;34m)\u001b[0m\u001b[0;34m\u001b[0m\u001b[0;34m\u001b[0m\u001b[0m\n\u001b[0m\u001b[1;32m   5181\u001b[0m \u001b[0;34m\u001b[0m\u001b[0m\n\u001b[1;32m   5182\u001b[0m     \u001b[0;32mdef\u001b[0m \u001b[0m__setattr__\u001b[0m\u001b[0;34m(\u001b[0m\u001b[0mself\u001b[0m\u001b[0;34m,\u001b[0m \u001b[0mname\u001b[0m\u001b[0;34m,\u001b[0m \u001b[0mvalue\u001b[0m\u001b[0;34m)\u001b[0m\u001b[0;34m:\u001b[0m\u001b[0;34m\u001b[0m\u001b[0;34m\u001b[0m\u001b[0m\n",
      "\u001b[0;31mAttributeError\u001b[0m: 'DataFrame' object has no attribute 'reshape'"
     ]
    }
   ],
   "source": [
    "X_train=X_train.reshape(N_train_dat,N_feat,1)\n",
    "X_validate=X_validate.reshape(N_val_dat,N_feat,1)"
   ]
  },
  {
   "cell_type": "code",
   "execution_count": 52,
   "metadata": {},
   "outputs": [],
   "source": [
    "from keras.layers import ActivityRegularization"
   ]
  },
  {
   "cell_type": "code",
   "execution_count": 73,
   "metadata": {},
   "outputs": [],
   "source": [
    "cnn_autoencoder.save('cnn_autoencoder_lasso.h5')"
   ]
  },
  {
   "cell_type": "code",
   "execution_count": 56,
   "metadata": {},
   "outputs": [
    {
     "data": {
      "text/plain": [
       "<function keras.regularizers.l1_l2(l1=0.01, l2=0.01)>"
      ]
     },
     "execution_count": 56,
     "metadata": {},
     "output_type": "execute_result"
    }
   ],
   "source": [
    "regularizers.l1_l2"
   ]
  },
  {
   "cell_type": "code",
   "execution_count": null,
   "metadata": {},
   "outputs": [],
   "source": []
  }
 ],
 "metadata": {
  "kernelspec": {
   "display_name": "Python 3",
   "language": "python",
   "name": "python3"
  },
  "language_info": {
   "codemirror_mode": {
    "name": "ipython",
    "version": 3
   },
   "file_extension": ".py",
   "mimetype": "text/x-python",
   "name": "python",
   "nbconvert_exporter": "python",
   "pygments_lexer": "ipython3",
   "version": "3.6.8"
  }
 },
 "nbformat": 4,
 "nbformat_minor": 2
}
