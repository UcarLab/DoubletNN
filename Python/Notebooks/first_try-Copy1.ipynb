{
 "cells": [
  {
   "cell_type": "code",
   "execution_count": 1,
   "metadata": {},
   "outputs": [
    {
     "name": "stderr",
     "output_type": "stream",
     "text": [
      "Using TensorFlow backend.\n"
     ]
    }
   ],
   "source": [
    "from __future__ import print_function\n",
    "import numpy as np\n",
    "import scipy.io\n",
    "import matplotlib.pyplot as plt\n",
    "import pandas as pd\n",
    "import pickle as pkl\n",
    "import tensorflow as tf\n",
    "#import keras as kr\n",
    "import sklearn as skl\n",
    "import keras\n",
    "from keras.models import Sequential\n",
    "from keras.layers import Dense, InputLayer, Dropout, Flatten, BatchNormalization, Conv1D, MaxPooling1D\n",
    "from keras.callbacks import ModelCheckpoint\n",
    "from keras.models import model_from_json\n",
    "from keras import backend as K\n",
    "import os"
   ]
  },
  {
   "cell_type": "code",
   "execution_count": 19,
   "metadata": {},
   "outputs": [],
   "source": [
    "N_train_dat=80\n",
    "N_test_dat=10\n",
    "N_val_dat=10\n",
    "N_feat=4\n",
    "\n",
    "X_train=np.random.rand(N_train_dat,N_feat).reshape(N_train_dat,N_feat,1)\n",
    "y_train=np.random.rand(N_train_dat,1)\n",
    "y_train[y_train<0.5]=0\n",
    "y_train[y_train >= 0.5]=1\n",
    "X_val=np.random.rand(N_val_dat,N_feat).reshape(N_val_dat,N_feat,1)\n",
    "y_val=np.random.rand(N_val_dat,1)\n",
    "y_val[y_val<0.5]=0\n",
    "y_val[y_val>=0.5]=1\n",
    "X_test=np.random.rand(N_test_dat,N_feat)\n",
    "y_test=np.random.rand(N_test_dat,1)\n",
    "y_test[y_test<0.5]=0\n",
    "y_test[y_test>=0.5]=1\n",
    "\n",
    "#np.reshape(np.aran)\n",
    "\n",
    "#y_validate=pd.read_pickle(\"CZI.PBMC.y.validate.nn.pkl\")\n",
    "#y_test=pd.read_pickle(\"CZI.PBMC.y.test.nn.pkl\")\n",
    "#X=pd.read_pickle(\"CZI.PBMC.full.X.nn.sorted.cleaned.pkl\")\n",
    "#y_train=pd.read_pickle(\"CZI.PBMC.y.tra\")\n",
    "#y_train=pd.read_pickle('CZI.PBMC.y.train.nn2.pkl')\n",
    "#X_train=np.array()\n",
    "\n",
    "#y_validate=pd.read_pickle('CZI.PBMC.y.validate.nn2.pkl')\n",
    "#X_validate=pd.read_pickle('CZI.PBMC.X.validate.nn2.pkl')\n",
    "\n",
    "\n",
    "\n",
    "#input_dir = os.getcwd()\n",
    "#genes=pd.read_csv(\"genes.nn.csv\").x[1:]\n",
    "\n",
    "#counts_matrix={}\n",
    "#for i in range(1,11,2):\n",
    "#    brcds_1=pd.read_csv(input_dir+'/CZI.PBMC.'+str(i)+'.brcds').x\n",
    "#    counts_matrix_1=scipy.io.mmread(input_dir + '/CZI.PBMC.'+str(i)+'.umis.mtx').T.tocsc()\n",
    "#    brcds_2=pd.read_csv(input_dir+'/CZI.PBMC.'+str(i+1)+'.brcds').x\n",
    "#    counts_matrix_2=scipy.io.mmread(input_dir + '/CZI.PBMC.'+str(i+1)+'.umis.mtx').T.tocsc()\n",
    "#    df_1=pd.DataFrame(counts_matrix_1.todense(),index=brcds_1,columns=genes)\n",
    " #   df_2=pd.DataFrame(counts_matrix_2.todense(),index=brcds_2,columns=genes)\n",
    "#    if i==1:\n",
    "#        czi_pbmc=pd.concat([df_1,df_2])\n",
    "#    else:\n",
    "#        czi_pbmc=pd.concat([czi_pbmc,df_1,df_2])\n",
    "#        \n",
    "#        \n",
    "#czi_pbmc.to_pickle(\"CZI.PBMC.full.nn.pkl\")\n",
    "\n",
    "\n",
    "\n",
    "\n",
    "#df_x_train = pd.read_csv(\"/projects/ucar-lab/danaco/bncmrk-dblts/DF/input/CZI.PBMC/CZI.PBMC.2.train.csv\", header=None)\n",
    "#df_x_validate = pd.read_csv(\"/projects/ucar-lab/danaco/bncmrk-dblts/DF/input/CZI.PBMC/CZI.PBMC.2.validate.csv\", header=None)\n",
    "#df_x_test = pd.read_csv(\"/projects/ucar-lab/danaco/bncmrk-dblts/DF/input/CZI.PBMC/CZI.PBMC.2.test.csv\", header=None)\n",
    "\n"
   ]
  },
  {
   "cell_type": "code",
   "execution_count": 32,
   "metadata": {},
   "outputs": [
    {
     "data": {
      "text/plain": [
       "array([[0.48889911, 0.03798464, 0.53339454, 0.04393703],\n",
       "       [0.45680013, 0.56877187, 0.06804091, 0.69010864],\n",
       "       [0.82569088, 0.03583764, 0.32913984, 0.79521823],\n",
       "       [0.23192857, 0.01000081, 0.43879372, 0.86553469],\n",
       "       [0.78820202, 0.05670117, 0.78073916, 0.63519565],\n",
       "       [0.49473239, 0.31906851, 0.1682906 , 0.56834942],\n",
       "       [0.703309  , 0.22793262, 0.05231622, 0.25654027],\n",
       "       [0.39612948, 0.0076354 , 0.43724363, 0.51127127],\n",
       "       [0.52058969, 0.86679953, 0.30052161, 0.97542653],\n",
       "       [0.1842075 , 0.89783282, 0.50189546, 0.65510934],\n",
       "       [0.61167513, 0.32516636, 0.2854383 , 0.83445105],\n",
       "       [0.47103149, 0.57030075, 0.06575623, 0.11274492],\n",
       "       [0.62748114, 0.62899752, 0.21589233, 0.43882584],\n",
       "       [0.41658339, 0.15713308, 0.87799812, 0.99119681],\n",
       "       [0.50806349, 0.91523514, 0.83432457, 0.95316968],\n",
       "       [0.46695813, 0.66346827, 0.98361577, 0.72806128],\n",
       "       [0.9390069 , 0.07642035, 0.63149973, 0.17361683],\n",
       "       [0.24804478, 0.78429251, 0.83410684, 0.44394195],\n",
       "       [0.95862829, 0.3146936 , 0.86782606, 0.84462672],\n",
       "       [0.44779904, 0.34336189, 0.73120529, 0.63167856],\n",
       "       [0.85454167, 0.94999524, 0.50330423, 0.4784562 ],\n",
       "       [0.38240818, 0.84258992, 0.13245983, 0.7360349 ],\n",
       "       [0.79043189, 0.04346316, 0.54177059, 0.83370428],\n",
       "       [0.75188101, 0.69633159, 0.82289288, 0.13912099],\n",
       "       [0.01097583, 0.17060743, 0.83839025, 0.38934687],\n",
       "       [0.33365554, 0.53374456, 0.90950856, 0.59933153],\n",
       "       [0.12547421, 0.88032672, 0.88457407, 0.78820113],\n",
       "       [0.78141331, 0.67626709, 0.5489512 , 0.19303277],\n",
       "       [0.31986542, 0.01381334, 0.44795259, 0.98097318],\n",
       "       [0.60337095, 0.14358607, 0.48707047, 0.44859974],\n",
       "       [0.03299162, 0.8280581 , 0.9082974 , 0.17714859],\n",
       "       [0.24205947, 0.25907314, 0.8417444 , 0.39750962],\n",
       "       [0.49744669, 0.98378887, 0.11845998, 0.8807703 ],\n",
       "       [0.29893756, 0.26914168, 0.24292579, 0.06472891],\n",
       "       [0.91455228, 0.88349481, 0.88949486, 0.77245331],\n",
       "       [0.05526122, 0.94000039, 0.53112142, 0.17796382],\n",
       "       [0.78442231, 0.12262464, 0.74536216, 0.00985631],\n",
       "       [0.03140572, 0.77219972, 0.0398066 , 0.95751063],\n",
       "       [0.66517228, 0.96891602, 0.89684764, 0.10150999],\n",
       "       [0.20033817, 0.08577838, 0.68181725, 0.63505813],\n",
       "       [0.69901316, 0.675073  , 0.00646941, 0.47310992],\n",
       "       [0.52118076, 0.60095452, 0.04806005, 0.51446129],\n",
       "       [0.88222046, 0.66758241, 0.65874205, 0.79673483],\n",
       "       [0.22440033, 0.251781  , 0.74583036, 0.84134569],\n",
       "       [0.41038013, 0.39576074, 0.12731884, 0.25873639],\n",
       "       [0.05327331, 0.78267783, 0.18337762, 0.81147111],\n",
       "       [0.75843924, 0.49480257, 0.81006487, 0.78547282],\n",
       "       [0.33582561, 0.5339291 , 0.65208451, 0.65101264],\n",
       "       [0.7162298 , 0.39057095, 0.9161578 , 0.12295068],\n",
       "       [0.22835105, 0.13343707, 0.70995227, 0.35309995],\n",
       "       [0.47174142, 0.23519852, 0.61371545, 0.5228108 ],\n",
       "       [0.65539342, 0.27609386, 0.30937304, 0.18570227],\n",
       "       [0.54754845, 0.38431976, 0.35513247, 0.27912739],\n",
       "       [0.88925689, 0.82321455, 0.34605816, 0.69098829],\n",
       "       [0.69650226, 0.02177302, 0.04717115, 0.50617897],\n",
       "       [0.44934642, 0.90591834, 0.40135907, 0.26162176],\n",
       "       [0.77503753, 0.80456008, 0.25789184, 0.85004652],\n",
       "       [0.65494149, 0.39215136, 0.73701097, 0.48807408],\n",
       "       [0.80390584, 0.61132346, 0.53463294, 0.97436053],\n",
       "       [0.19604391, 0.69030357, 0.75495589, 0.69895035],\n",
       "       [0.87564049, 0.45982183, 0.1955454 , 0.21351047],\n",
       "       [0.59997851, 0.08429863, 0.62152584, 0.33173148],\n",
       "       [0.4611159 , 0.2884663 , 0.97505325, 0.42678828],\n",
       "       [0.59774295, 0.23086476, 0.13963105, 0.6406201 ],\n",
       "       [0.47664521, 0.66586406, 0.05687821, 0.77365754],\n",
       "       [0.73402923, 0.10761635, 0.7006664 , 0.00855186],\n",
       "       [0.43483574, 0.64361155, 0.77930035, 0.0973275 ],\n",
       "       [0.59604571, 0.30332685, 0.4199303 , 0.71189189],\n",
       "       [0.65531024, 0.7628886 , 0.44185101, 0.46951106],\n",
       "       [0.54784379, 0.36145396, 0.58535335, 0.17258074],\n",
       "       [0.55333182, 0.21896956, 0.27488123, 0.68955624],\n",
       "       [0.41293088, 0.50043572, 0.24584342, 0.06384797],\n",
       "       [0.50837939, 0.32835471, 0.9812339 , 0.94929497],\n",
       "       [0.551608  , 0.09704956, 0.05477702, 0.35558206],\n",
       "       [0.1358086 , 0.85655826, 0.5236852 , 0.90431675],\n",
       "       [0.3185063 , 0.44308307, 0.98450603, 0.29597643],\n",
       "       [0.34919685, 0.46187497, 0.45556691, 0.48666365],\n",
       "       [0.1813485 , 0.96437234, 0.76289182, 0.18023163],\n",
       "       [0.73406722, 0.24579993, 0.15068412, 0.31915127],\n",
       "       [0.12799282, 0.36503967, 0.48677115, 0.29873741]])"
      ]
     },
     "execution_count": 32,
     "metadata": {},
     "output_type": "execute_result"
    }
   ],
   "source": [
    "X_train.shape[1]\n",
    "#y.shape\n",
    "bebe.values\n",
    "#a=np.arange(0,len(y))\n",
    "#np.random.shuffle(a)\n",
    "\n",
    "#train_locs, validate_locs, test_locs = np.split(a, [int(.8 * len(a)), int(.9 * len(a))])\n",
    "#all_brcds=pd.DataFrame(y.index.values,columns=np.array([\"Barcode\"]))\n",
    "#validate_brcds=pd.DataFrame(y_validate.index.values,columns=np.array([\"Barcode\"]))\n",
    "#test_brcds=pd.DataFrame(pd.read_pickle(\"CZI.PBMC.test.barcodes.pkl\").x.values,columns=np.array([\"Barcode\"]))\n",
    "#val_tst_brcds=pd.concat([validate_brcds,test_brcds])\n",
    "\n",
    "#np.concatenate([validate_brcds,test_brcds])\n",
    "    #np.concatenate(validate_brcds,test_brcds)#pd.concat([validate_brcds,test_brcds])\n",
    "#type(test_brcds)\n",
    "#type(validate_brcds)\n",
    "\n",
    "#dir()\n"
   ]
  },
  {
   "cell_type": "code",
   "execution_count": 142,
   "metadata": {
    "scrolled": true
   },
   "outputs": [],
   "source": [
    "train_locs=np.array([np.where(~all_brcds.Barcode.isin(val_tst_brcds.Barcode).values)])[0,0,:]\n",
    "#all_brcds.shape\n",
    "#not True\n",
    "train_brcds=all_brcds.iloc[train_locs,]\n",
    "pd.DataFrame(train_brcds.Barcode.values).to_pickle(\"CZI.PBMC.train.barcodes.pkl\")\n",
    "os.listdir()"
   ]
  },
  {
   "cell_type": "code",
   "execution_count": 40,
   "metadata": {},
   "outputs": [],
   "source": [
    "bebe=pd.read_pickle(\"CZI.PBMC.new.train.locs.pkl\")\n",
    "\n",
    "#pd.DataFrame(train_locs,columns=np.array([\"Locs\"])).to_pickle(\"CZI.PBMC.new.train.locs.pkl\")\n",
    "#pd.DataFrame(y.index.values[train_locs],columns=np.array([\"Barcode\"])).to_pickle(\"CZI.PBMC.new.train.barcodes.pkl\")\n",
    "\n",
    "#pd.DataFrame(validate_locs,columns=np.array([\"Locs\"])).to_pickle(\"CZI.PBMC.new.validate.locs.pkl\")\n",
    "#pd.DataFrame(y.index.values[validate_locs],columns=np.array([\"Barcode\"])).to_pickle(\"CZI.PBMC.new.validate.barcodes.pkl\")\n",
    "\n",
    "#pd.DataFrame(test_locs,columns=np.array([\"Locs\"])).to_pickle(\"CZI.PBMC.new.test.locs.pkl\")\n",
    "#pd.DataFrame(y.index.values[test_locs],columns=np.array([\"Barcode\"])).to_pickle(\"CZI.PBMC.new.test.barcodes.pkl\")"
   ]
  },
  {
   "cell_type": "code",
   "execution_count": 45,
   "metadata": {},
   "outputs": [
    {
     "data": {
      "text/plain": [
       "(242744, 1)"
      ]
     },
     "execution_count": 45,
     "metadata": {},
     "output_type": "execute_result"
    }
   ],
   "source": [
    "y.iloc[train_locs,].shape"
   ]
  },
  {
   "cell_type": "code",
   "execution_count": 22,
   "metadata": {},
   "outputs": [
    {
     "name": "stdout",
     "output_type": "stream",
     "text": [
      "_________________________________________________________________\n",
      "Layer (type)                 Output Shape              Param #   \n",
      "=================================================================\n",
      "conv1d_6 (Conv1D)            (None, 2, 1)              4         \n",
      "_________________________________________________________________\n",
      "dropout_5 (Dropout)          (None, 2, 1)              0         \n",
      "_________________________________________________________________\n",
      "flatten_5 (Flatten)          (None, 2)                 0         \n",
      "_________________________________________________________________\n",
      "dense_4 (Dense)              (None, 1)                 3         \n",
      "=================================================================\n",
      "Total params: 7\n",
      "Trainable params: 7\n",
      "Non-trainable params: 0\n",
      "_________________________________________________________________\n"
     ]
    },
    {
     "ename": "ValueError",
     "evalue": "Error when checking input: expected conv1d_6_input to have 3 dimensions, but got array with shape (80, 4)",
     "output_type": "error",
     "traceback": [
      "\u001b[0;31m---------------------------------------------------------------------------\u001b[0m",
      "\u001b[0;31mValueError\u001b[0m                                Traceback (most recent call last)",
      "\u001b[0;32m<ipython-input-22-464207ba7d20>\u001b[0m in \u001b[0;36m<module>\u001b[0;34m\u001b[0m\n\u001b[1;32m     29\u001b[0m           \u001b[0mepochs\u001b[0m\u001b[0;34m=\u001b[0m\u001b[0mepochs\u001b[0m\u001b[0;34m,\u001b[0m\u001b[0;34m\u001b[0m\u001b[0;34m\u001b[0m\u001b[0m\n\u001b[1;32m     30\u001b[0m           \u001b[0mverbose\u001b[0m\u001b[0;34m=\u001b[0m\u001b[0;36m1\u001b[0m\u001b[0;34m,\u001b[0m\u001b[0;34m\u001b[0m\u001b[0;34m\u001b[0m\u001b[0m\n\u001b[0;32m---> 31\u001b[0;31m           validation_data=(X_val, y_val))\n\u001b[0m",
      "\u001b[0;32m/usr/local/lib/python3.6/dist-packages/keras/engine/training.py\u001b[0m in \u001b[0;36mfit\u001b[0;34m(self, x, y, batch_size, epochs, verbose, callbacks, validation_split, validation_data, shuffle, class_weight, sample_weight, initial_epoch, steps_per_epoch, validation_steps, **kwargs)\u001b[0m\n\u001b[1;32m    950\u001b[0m             \u001b[0msample_weight\u001b[0m\u001b[0;34m=\u001b[0m\u001b[0msample_weight\u001b[0m\u001b[0;34m,\u001b[0m\u001b[0;34m\u001b[0m\u001b[0;34m\u001b[0m\u001b[0m\n\u001b[1;32m    951\u001b[0m             \u001b[0mclass_weight\u001b[0m\u001b[0;34m=\u001b[0m\u001b[0mclass_weight\u001b[0m\u001b[0;34m,\u001b[0m\u001b[0;34m\u001b[0m\u001b[0;34m\u001b[0m\u001b[0m\n\u001b[0;32m--> 952\u001b[0;31m             batch_size=batch_size)\n\u001b[0m\u001b[1;32m    953\u001b[0m         \u001b[0;31m# Prepare validation data.\u001b[0m\u001b[0;34m\u001b[0m\u001b[0;34m\u001b[0m\u001b[0;34m\u001b[0m\u001b[0m\n\u001b[1;32m    954\u001b[0m         \u001b[0mdo_validation\u001b[0m \u001b[0;34m=\u001b[0m \u001b[0;32mFalse\u001b[0m\u001b[0;34m\u001b[0m\u001b[0;34m\u001b[0m\u001b[0m\n",
      "\u001b[0;32m/usr/local/lib/python3.6/dist-packages/keras/engine/training.py\u001b[0m in \u001b[0;36m_standardize_user_data\u001b[0;34m(self, x, y, sample_weight, class_weight, check_array_lengths, batch_size)\u001b[0m\n\u001b[1;32m    749\u001b[0m             \u001b[0mfeed_input_shapes\u001b[0m\u001b[0;34m,\u001b[0m\u001b[0;34m\u001b[0m\u001b[0;34m\u001b[0m\u001b[0m\n\u001b[1;32m    750\u001b[0m             \u001b[0mcheck_batch_axis\u001b[0m\u001b[0;34m=\u001b[0m\u001b[0;32mFalse\u001b[0m\u001b[0;34m,\u001b[0m  \u001b[0;31m# Don't enforce the batch size.\u001b[0m\u001b[0;34m\u001b[0m\u001b[0;34m\u001b[0m\u001b[0m\n\u001b[0;32m--> 751\u001b[0;31m             exception_prefix='input')\n\u001b[0m\u001b[1;32m    752\u001b[0m \u001b[0;34m\u001b[0m\u001b[0m\n\u001b[1;32m    753\u001b[0m         \u001b[0;32mif\u001b[0m \u001b[0my\u001b[0m \u001b[0;32mis\u001b[0m \u001b[0;32mnot\u001b[0m \u001b[0;32mNone\u001b[0m\u001b[0;34m:\u001b[0m\u001b[0;34m\u001b[0m\u001b[0;34m\u001b[0m\u001b[0m\n",
      "\u001b[0;32m/usr/local/lib/python3.6/dist-packages/keras/engine/training_utils.py\u001b[0m in \u001b[0;36mstandardize_input_data\u001b[0;34m(data, names, shapes, check_batch_axis, exception_prefix)\u001b[0m\n\u001b[1;32m    126\u001b[0m                         \u001b[0;34m': expected '\u001b[0m \u001b[0;34m+\u001b[0m \u001b[0mnames\u001b[0m\u001b[0;34m[\u001b[0m\u001b[0mi\u001b[0m\u001b[0;34m]\u001b[0m \u001b[0;34m+\u001b[0m \u001b[0;34m' to have '\u001b[0m \u001b[0;34m+\u001b[0m\u001b[0;34m\u001b[0m\u001b[0;34m\u001b[0m\u001b[0m\n\u001b[1;32m    127\u001b[0m                         \u001b[0mstr\u001b[0m\u001b[0;34m(\u001b[0m\u001b[0mlen\u001b[0m\u001b[0;34m(\u001b[0m\u001b[0mshape\u001b[0m\u001b[0;34m)\u001b[0m\u001b[0;34m)\u001b[0m \u001b[0;34m+\u001b[0m \u001b[0;34m' dimensions, but got array '\u001b[0m\u001b[0;34m\u001b[0m\u001b[0;34m\u001b[0m\u001b[0m\n\u001b[0;32m--> 128\u001b[0;31m                         'with shape ' + str(data_shape))\n\u001b[0m\u001b[1;32m    129\u001b[0m                 \u001b[0;32mif\u001b[0m \u001b[0;32mnot\u001b[0m \u001b[0mcheck_batch_axis\u001b[0m\u001b[0;34m:\u001b[0m\u001b[0;34m\u001b[0m\u001b[0;34m\u001b[0m\u001b[0m\n\u001b[1;32m    130\u001b[0m                     \u001b[0mdata_shape\u001b[0m \u001b[0;34m=\u001b[0m \u001b[0mdata_shape\u001b[0m\u001b[0;34m[\u001b[0m\u001b[0;36m1\u001b[0m\u001b[0;34m:\u001b[0m\u001b[0;34m]\u001b[0m\u001b[0;34m\u001b[0m\u001b[0;34m\u001b[0m\u001b[0m\n",
      "\u001b[0;31mValueError\u001b[0m: Error when checking input: expected conv1d_6_input to have 3 dimensions, but got array with shape (80, 4)"
     ]
    }
   ],
   "source": [
    "# The known number of output classes.\n",
    "num_classes = 2\n",
    "\n",
    "# Input image dimensions\n",
    "#input_shape = (18488,)\n",
    "\n",
    "\n",
    "model = Sequential()\n",
    "model.add(Conv1D(filters=1, kernel_size=3,strides=3, input_shape=(N_feat,1), padding='same',activation='relu',kernel_initializer=\"uniform\"))\n",
    "#model.add(Conv1D(filters=1, kernel_size=3,strides=3, input_shape=(None,N_feat), padding='same',activation='relu',kernel_initializer=\"uniform\"))\n",
    "model.add(Dropout(0.5))\n",
    "#model.add(MaxPooling1D(pool_size=2))\n",
    "model.add(Flatten())\n",
    "#model.add(Dense(64, activation='relu'))\n",
    "#model.add(Dense(num_classes, activation='softmax'))\n",
    "model.add(Dense(1, activation='sigmoid'))\n",
    "\n",
    "model.compile(loss=keras.losses.binary_crossentropy,\n",
    "              optimizer=keras.optimizers.Adadelta(),\n",
    "              metrics=['accuracy'])\n",
    "\n",
    "model.summary()\n",
    "\n",
    "\n",
    "batch_size = 5\n",
    "epochs = 10\n",
    "model.fit(X_train, y_train,\n",
    "          batch_size=batch_size,\n",
    "          epochs=epochs,\n",
    "          verbose=1,\n",
    "          validation_data=(X_val, y_val))"
   ]
  },
  {
   "cell_type": "code",
   "execution_count": null,
   "metadata": {},
   "outputs": [],
   "source": []
  }
 ],
 "metadata": {
  "kernelspec": {
   "display_name": "Python 3",
   "language": "python",
   "name": "python3"
  },
  "language_info": {
   "codemirror_mode": {
    "name": "ipython",
    "version": 3
   },
   "file_extension": ".py",
   "mimetype": "text/x-python",
   "name": "python",
   "nbconvert_exporter": "python",
   "pygments_lexer": "ipython3",
   "version": "3.6.8"
  }
 },
 "nbformat": 4,
 "nbformat_minor": 2
}
